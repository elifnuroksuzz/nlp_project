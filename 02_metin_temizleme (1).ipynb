{
 "cells": [
  {
   "cell_type": "code",
   "execution_count": 3,
   "id": "01e51e3a-266c-4825-bf9a-1259b098e20e",
   "metadata": {},
   "outputs": [
    {
     "name": "stdout",
     "output_type": "stream",
     "text": [
      "✅ Veri seti yüklendi: (50000, 2)\n"
     ]
    }
   ],
   "source": [
    "# =============================================================================\n",
    "# ADIM 2: METİN TEMİZLEME VE NORMALİZASYON\n",
    "# =============================================================================\n",
    "\n",
    "import pandas as pd\n",
    "import numpy as np\n",
    "import re\n",
    "import matplotlib.pyplot as plt\n",
    "import seaborn as sns\n",
    "from bs4 import BeautifulSoup\n",
    "import warnings\n",
    "warnings.filterwarnings('ignore')\n",
    "\n",
    "# Veri setini yükle (00_kurulum_ve_veri_hazırlığı.ipynb'den)\n",
    "df = pd.read_csv('../data/IMDB Dataset.csv')\n",
    "print(f\"✅ Veri seti yüklendi: {df.shape}\")"
   ]
  },
  {
   "cell_type": "code",
   "execution_count": 4,
   "id": "7c491fdc-0cc6-4ba2-ba61-d4133eb298e6",
   "metadata": {},
   "outputs": [
    {
     "name": "stdout",
     "output_type": "stream",
     "text": [
      "HTML temizleme örnegi:\n",
      "Önce: One of the other reviewers has mentioned that after watching just 1 Oz episode you'll be hooked. They are right, as this is exactly what happened with me.<br /><br />The first thing that struck me abo\n",
      "Sonra: One of the other reviewers has mentioned that after watching just 1 Oz episode you'll be hooked. They are right, as this is exactly what happened with me.The first thing that struck me about Oz was it\n"
     ]
    }
   ],
   "source": [
    "# =============================================================================\n",
    "# 1. HTML ETİKETLERİNİ TEMİZLEME\n",
    "# =============================================================================\n",
    "\n",
    "def clean_html(text):\n",
    "    \"\"\"HTML etiketlerini temizle\"\"\"\n",
    "    soup = BeautifulSoup(text, 'html.parser')\n",
    "    return soup.get_text()\n",
    "\n",
    "# HTML etiketlerini temizle\n",
    "df['review_no_html'] = df['review'].apply(clean_html)\n",
    "\n",
    "# Örnek göster\n",
    "print(\"HTML temizleme örnegi:\")\n",
    "print(\"Önce:\", df['review'].iloc[0][:200])\n",
    "print(\"Sonra:\", df['review_no_html'].iloc[0][:200])"
   ]
  },
  {
   "cell_type": "code",
   "execution_count": 5,
   "id": "fdd3ae83-1570-4ac1-ba79-d61100f1e490",
   "metadata": {},
   "outputs": [],
   "source": [
    "# =============================================================================\n",
    "# 2. NOKTALAMA İŞARETLERİNİ TEMİZLEME\n",
    "# =============================================================================\n",
    "\n",
    "def clean_punctuation(text):\n",
    "    \"\"\"Noktalama işaretlerini temizle\"\"\"\n",
    "    # Noktalama işaretlerini boşluk ile değiştir\n",
    "    text = re.sub(r'[^\\w\\s]', ' ', text)\n",
    "    return text\n",
    "\n",
    "df['review_no_punct'] = df['review_no_html'].apply(clean_punctuation)"
   ]
  },
  {
   "cell_type": "code",
   "execution_count": 6,
   "id": "bf05d77b-835a-4b8e-8572-0bfd6ceedd26",
   "metadata": {},
   "outputs": [],
   "source": [
    "# =============================================================================\n",
    "# 3. SAYILARI TEMİZLEME\n",
    "# =============================================================================\n",
    "\n",
    "def clean_numbers(text):\n",
    "    \"\"\"Sayıları temizle\"\"\"\n",
    "    return re.sub(r'\\d+', '', text)\n",
    "\n",
    "df['review_no_numbers'] = df['review_no_punct'].apply(clean_numbers)\n"
   ]
  },
  {
   "cell_type": "code",
   "execution_count": 7,
   "id": "ee7ce490-0bc8-4a77-aaae-524cbcc16c35",
   "metadata": {},
   "outputs": [],
   "source": [
    "# =============================================================================\n",
    "# 4. KÜÇÜK HARFE ÇEVİRME\n",
    "# =============================================================================\n",
    "\n",
    "df['review_lower'] = df['review_no_numbers'].str.lower()\n"
   ]
  },
  {
   "cell_type": "code",
   "execution_count": 8,
   "id": "4c3c6bca-eb12-4bbb-ae74-61d9c035f077",
   "metadata": {},
   "outputs": [],
   "source": [
    "# =============================================================================\n",
    "# 5. FAZLA BOŞLUKLARI TEMİZLEME\n",
    "# =============================================================================\n",
    "\n",
    "def clean_whitespace(text):\n",
    "    \"\"\"Fazla boşlukları temizle\"\"\"\n",
    "    return re.sub(r'\\s+', ' ', text).strip()\n",
    "\n",
    "df['review_clean'] = df['review_lower'].apply(clean_whitespace)\n"
   ]
  },
  {
   "cell_type": "code",
   "execution_count": 9,
   "id": "638944fb-82b3-42ea-988d-bdd7a3d4b422",
   "metadata": {},
   "outputs": [
    {
     "name": "stdout",
     "output_type": "stream",
     "text": [
      "\n",
      "==================================================\n",
      "🔍 TEMİZLEME SONUÇLARI\n",
      "==================================================\n",
      "\n",
      "📝 Örnek 1:\n",
      "Orijinal: One of the other reviewers has mentioned that after watching just 1 Oz episode you'll be hooked. They are right, as this is exactly what happened with...\n",
      "Temizlenmiş: one of the other reviewers has mentioned that after watching just oz episode you ll be hooked they are right as this is exactly what happened with me ...\n",
      "Uzunluk değişimi: 1761 → 1676\n",
      "\n",
      "📝 Örnek 2:\n",
      "Orijinal: A wonderful little production. <br /><br />The filming technique is very unassuming- very old-time-BBC fashion and gives a comforting, and sometimes d...\n",
      "Temizlenmiş: a wonderful little production the filming technique is very unassuming very old time bbc fashion and gives a comforting and sometimes discomforting se...\n",
      "Uzunluk değişimi: 998 → 940\n",
      "\n",
      "📝 Örnek 3:\n",
      "Orijinal: I thought this was a wonderful way to spend time on a too hot summer weekend, sitting in the air conditioned theater and watching a light-hearted come...\n",
      "Temizlenmiş: i thought this was a wonderful way to spend time on a too hot summer weekend sitting in the air conditioned theater and watching a light hearted comed...\n",
      "Uzunluk değişimi: 926 → 878\n"
     ]
    }
   ],
   "source": [
    "# =============================================================================\n",
    "# 6. TEMİZLEME ÖNCESİ VE SONRASI KARŞILAŞTIRMA\n",
    "# =============================================================================\n",
    "\n",
    "print(\"\\n\" + \"=\"*50)\n",
    "print(\"🔍 TEMİZLEME SONUÇLARI\")\n",
    "print(\"=\"*50)\n",
    "\n",
    "# İlk 3 örnek\n",
    "for i in range(3):\n",
    "    print(f\"\\n📝 Örnek {i+1}:\")\n",
    "    print(f\"Orijinal: {df['review'].iloc[i][:150]}...\")\n",
    "    print(f\"Temizlenmiş: {df['review_clean'].iloc[i][:150]}...\")\n",
    "    print(f\"Uzunluk değişimi: {len(df['review'].iloc[i])} → {len(df['review_clean'].iloc[i])}\")"
   ]
  },
  {
   "cell_type": "code",
   "execution_count": 10,
   "id": "0e3523a6-a287-4519-9f57-97704df493fa",
   "metadata": {},
   "outputs": [
    {
     "data": {
      "image/png": "[encoded data removed]",
      "text/plain": [
       "<Figure size 1500x600 with 2 Axes>"
      ]
     },
     "metadata": {},
     "output_type": "display_data"
    }
   ],
   "source": [
    "# =============================================================================\n",
    "# 7. TEMİZLEME ETKİSİNİ GÖRSELLEŞTIRME\n",
    "# =============================================================================\n",
    "\n",
    "# Uzunluk karşılaştırması\n",
    "df['original_length'] = df['review'].str.len()\n",
    "df['clean_length'] = df['review_clean'].str.len()\n",
    "\n",
    "fig, axes = plt.subplots(1, 2, figsize=(15, 6))\n",
    "\n",
    "# Orijinal uzunluk dağılımı\n",
    "axes[0].hist(df['original_length'], bins=50, alpha=0.7, label='Orijinal', color='red')\n",
    "axes[0].hist(df['clean_length'], bins=50, alpha=0.7, label='Temizlenmiş', color='blue')\n",
    "axes[0].set_title('Uzunluk Dağılımı Karşılaştırması')\n",
    "axes[0].set_xlabel('Karakter Sayısı')\n",
    "axes[0].set_ylabel('Frekans')\n",
    "axes[0].legend()\n",
    "\n",
    "# Uzunluk farkı\n",
    "length_diff = df['original_length'] - df['clean_length']\n",
    "axes[1].hist(length_diff, bins=50, alpha=0.7, color='green')\n",
    "axes[1].set_title('Uzunluk Farkı Dağılımı')\n",
    "axes[1].set_xlabel('Temizlenen Karakter Sayısı')\n",
    "axes[1].set_ylabel('Frekans')\n",
    "\n",
    "plt.tight_layout()\n",
    "plt.show()"
   ]
  },
  {
   "cell_type": "code",
   "execution_count": 11,
   "id": "cb9d049c-57db-4bbc-b96b-a4d5fa641418",
   "metadata": {},
   "outputs": [
    {
     "name": "stdout",
     "output_type": "stream",
     "text": [
      "\n",
      "✅ Metin temizleme tamamlandı!\n",
      "📊 Temizlenmiş veri boyutu: (50000, 2)\n",
      "💾 Sonraki adım için hazır: df_clean değişkeni\n"
     ]
    }
   ],
   "source": [
    "# =============================================================================\n",
    "# 8. SONUÇLARI KAYDETME\n",
    "# =============================================================================\n",
    "\n",
    "# Temizlenmiş veriyi kaydet\n",
    "df_clean = df[['review_clean', 'sentiment']].copy()\n",
    "df_clean.columns = ['review', 'sentiment']\n",
    "\n",
    "print(f\"\\n✅ Metin temizleme tamamlandı!\")\n",
    "print(f\"📊 Temizlenmiş veri boyutu: {df_clean.shape}\")\n",
    "print(f\"💾 Sonraki adım için hazır: df_clean değişkeni\")"
   ]
  },
  {
   "cell_type": "code",
   "execution_count": 14,
   "id": "cdcde1b8-447e-46a0-948d-1f70a7433ddf",
   "metadata": {},
   "outputs": [],
   "source": [
    "df_clean.to_csv(\"../data/cleaned_imdb_dataset.csv\", index=False)"
   ]
  }
 ],
 "metadata": {
  "kernelspec": {
   "display_name": "Python (tts_env)",
   "language": "python",
   "name": "tts_env"
  },
  "language_info": {
   "codemirror_mode": {
    "name": "ipython",
    "version": 3
   },
   "file_extension": ".py",
   "mimetype": "text/x-python",
   "name": "python",
   "nbconvert_exporter": "python",
   "pygments_lexer": "ipython3",
   "version": "3.9.7"
  }
 },
 "nbformat": 4,
 "nbformat_minor": 5
}
