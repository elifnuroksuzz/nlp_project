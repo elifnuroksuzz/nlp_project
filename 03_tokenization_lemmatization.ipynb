{
 "cells": [
  {
   "cell_type": "code",
   "execution_count": 59,
   "id": "d65ee4c6-73c5-4e86-8445-f311206f3c60",
   "metadata": {},
   "outputs": [
    {
     "name": "stderr",
     "output_type": "stream",
     "text": [
      "[nltk_data] Downloading package punkt to\n",
      "[nltk_data]     C:\\Users\\ekol\\AppData\\Roaming\\nltk_data...\n",
      "[nltk_data]   Package punkt is already up-to-date!\n",
      "[nltk_data] Downloading package stopwords to\n",
      "[nltk_data]     C:\\Users\\ekol\\AppData\\Roaming\\nltk_data...\n",
      "[nltk_data]   Package stopwords is already up-to-date!\n"
     ]
    },
    {
     "name": "stdout",
     "output_type": "stream",
     "text": [
      "✅ Temizlenmiş veri seti yüklendi: (50000, 2)\n"
     ]
    }
   ],
   "source": [
    "# =============================================================================\n",
    "# ADIM 3: TOKENİZASYON, LEMMATİZASYON, STEMMING VE SINIFLANDIRMA\n",
    "# =============================================================================\n",
    "\n",
    "import pandas as pd\n",
    "import numpy as np\n",
    "import nltk\n",
    "import spacy\n",
    "from nltk.tokenize import word_tokenize\n",
    "from nltk.corpus import stopwords\n",
    "from nltk.stem import PorterStemmer\n",
    "from sklearn.feature_extraction.text import CountVectorizer, TfidfVectorizer\n",
    "from sklearn.model_selection import train_test_split\n",
    "from sklearn.naive_bayes import MultinomialNB\n",
    "from sklearn.linear_model import LogisticRegression\n",
    "from sklearn.metrics import accuracy_score, precision_score, recall_score, f1_score, classification_report\n",
    "import matplotlib.pyplot as plt\n",
    "import seaborn as sns\n",
    "import warnings\n",
    "warnings.filterwarnings('ignore')\n",
    "\n",
    "# NLTK verilerini indir\n",
    "nltk.download('punkt')\n",
    "nltk.download('stopwords')\n",
    "\n",
    "# spaCy modelini yükle\n",
    "nlp = spacy.load('en_core_web_sm', disable=['parser', 'ner'])\n",
    "\n",
    "# Veri setini yükle\n",
    "df_clean = pd.read_csv('../data/cleaned_imdb_dataset.csv')\n",
    "print(f\"✅ Temizlenmiş veri seti yüklendi: {df_clean.shape}\")"
   ]
  },
  {
   "cell_type": "code",
   "execution_count": 60,
   "id": "0622edcb-7589-4a46-ba20-31f68a307716",
   "metadata": {},
   "outputs": [
    {
     "name": "stdout",
     "output_type": "stream",
     "text": [
      "\n",
      "🔍 Tokenizasyon Örneği:\n",
      "Orijinal: one of the other reviewers has mentioned that after watching just oz episode you ll be hooked they are right as this is exactly what happened with me ...\n",
      "Tokenlar: ['one', 'of', 'the', 'other', 'reviewers', 'has', 'mentioned', 'that', 'after', 'watching']...\n"
     ]
    }
   ],
   "source": [
    "# =============================================================================\n",
    "# 1. TOKENİZASYON\n",
    "# =============================================================================\n",
    "\n",
    "def tokenize_text(text):\n",
    "    \"\"\"Metni kelimelere ayır (tokenize et)\"\"\"\n",
    "    return word_tokenize(text)\n",
    "\n",
    "df_clean['tokens'] = df_clean['review'].apply(tokenize_text)\n",
    "\n",
    "# Örnek göster\n",
    "print(\"\\n🔍 Tokenizasyon Örneği:\")\n",
    "print(f\"Orijinal: {df_clean['review'].iloc[0][:150]}...\")\n",
    "print(f\"Tokenlar: {df_clean['tokens'].iloc[0][:10]}...\")"
   ]
  },
  {
   "cell_type": "code",
   "execution_count": 61,
   "id": "ec2043df-9af1-4fec-8c96-9c5076d353df",
   "metadata": {},
   "outputs": [
    {
     "name": "stdout",
     "output_type": "stream",
     "text": [
      "\n",
      "🔍 Durdurma Kelimeleri Filtreleme Örneği:\n",
      "Önce: ['one', 'of', 'the', 'other', 'reviewers', 'has', 'mentioned', 'that', 'after', 'watching']...\n",
      "Sonra: ['one', 'reviewers', 'mentioned', 'watching', 'oz', 'episode', 'hooked', 'right', 'exactly', 'happened']...\n"
     ]
    }
   ],
   "source": [
    "# =============================================================================\n",
    "# 2. DURDURMA KELİMELERİNİ FİLTRELEME\n",
    "# =============================================================================\n",
    "\n",
    "stop_words = set(stopwords.words('english'))\n",
    "\n",
    "def remove_stopwords(tokens):\n",
    "    \"\"\"Durdurma kelimelerini kaldır\"\"\"\n",
    "    return [token for token in tokens if token.lower() not in stop_words]\n",
    "\n",
    "df_clean['tokens_no_stop'] = df_clean['tokens'].apply(remove_stopwords)\n",
    "\n",
    "# Örnek göster\n",
    "print(\"\\n🔍 Durdurma Kelimeleri Filtreleme Örneği:\")\n",
    "print(f\"Önce: {df_clean['tokens'].iloc[0][:10]}...\")\n",
    "print(f\"Sonra: {df_clean['tokens_no_stop'].iloc[0][:10]}...\")\n"
   ]
  },
  {
   "cell_type": "code",
   "execution_count": 62,
   "id": "ecc20a6f-e314-4b08-9434-a98ece6a6ecd",
   "metadata": {},
   "outputs": [
    {
     "name": "stdout",
     "output_type": "stream",
     "text": [
      "\n",
      "🔍 Lemmatizasyon Örneği:\n",
      "Önce: ['one', 'reviewers', 'mentioned', 'watching', 'oz', 'episode', 'hooked', 'right', 'exactly', 'happened']...\n",
      "Sonra: ['one', 'reviewer', 'mention', 'watch', 'oz', 'episode', 'hook', 'right', 'exactly', 'happen']...\n"
     ]
    }
   ],
   "source": [
    "# =============================================================================\n",
    "# 3. LEMMATİZASYON\n",
    "# =============================================================================\n",
    "\n",
    "def lemmatize_text(tokens):\n",
    "    \"\"\"Kelimeleri lemmatize et\"\"\"\n",
    "    doc = nlp(' '.join(tokens))\n",
    "    return [token.lemma_ for token in doc]\n",
    "\n",
    "df_clean['tokens_lemmatized'] = df_clean['tokens_no_stop'].apply(lemmatize_text)\n",
    "\n",
    "# Örnek göster\n",
    "print(\"\\n🔍 Lemmatizasyon Örneği:\")\n",
    "print(f\"Önce: {df_clean['tokens_no_stop'].iloc[0][:10]}...\")\n",
    "print(f\"Sonra: {df_clean['tokens_lemmatized'].iloc[0][:10]}...\")\n"
   ]
  },
  {
   "cell_type": "code",
   "execution_count": 63,
   "id": "6cadbc22-6353-41c1-b083-3238785d994f",
   "metadata": {},
   "outputs": [
    {
     "name": "stdout",
     "output_type": "stream",
     "text": [
      "\n",
      "🔍 Stemming Örneği:\n",
      "Önce: ['one', 'reviewers', 'mentioned', 'watching', 'oz', 'episode', 'hooked', 'right', 'exactly', 'happened']...\n",
      "Sonra: ['one', 'review', 'mention', 'watch', 'oz', 'episod', 'hook', 'right', 'exactli', 'happen']...\n"
     ]
    }
   ],
   "source": [
    "# =============================================================================\n",
    "# 4. STEMMING\n",
    "# =============================================================================\n",
    "\n",
    "stemmer = PorterStemmer()\n",
    "\n",
    "def stem_text(tokens):\n",
    "    \"\"\"Kelimeleri stem et\"\"\"\n",
    "    return [stemmer.stem(token) for token in tokens]\n",
    "\n",
    "df_clean['tokens_stemmed'] = df_clean['tokens_no_stop'].apply(stem_text)\n",
    "\n",
    "# Örnek göster\n",
    "print(\"\\n🔍 Stemming Örneği:\")\n",
    "print(f\"Önce: {df_clean['tokens_no_stop'].iloc[0][:10]}...\")\n",
    "print(f\"Sonra: {df_clean['tokens_stemmed'].iloc[0][:10]}...\")\n"
   ]
  },
  {
   "cell_type": "code",
   "execution_count": 64,
   "id": "0b12d38d-95a7-48a0-9aa6-44e4c59bd06e",
   "metadata": {},
   "outputs": [
    {
     "data": {
      "image/png": "[encoded data removed]",
      "text/plain": [
       "<Figure size 1000x600 with 1 Axes>"
      ]
     },
     "metadata": {},
     "output_type": "display_data"
    }
   ],
   "source": [
    "from collections import Counter\n",
    "\n",
    "all_tokens = [token for tokens in df_clean['tokens_lemmatized'] for token in tokens]\n",
    "word_freq = Counter(all_tokens).most_common(10)\n",
    "\n",
    "plt.figure(figsize=(10, 6))\n",
    "sns.barplot(x=[count for word, count in word_freq], y=[word for word, count in word_freq])\n",
    "plt.title('En Sık Kullanılan 10 Kelime (Lemmatized)')\n",
    "plt.xlabel('Frekans')\n",
    "plt.ylabel('Kelime')\n",
    "plt.show()"
   ]
  },
  {
   "cell_type": "code",
   "execution_count": 65,
   "id": "3fd7fe48-f8e4-4165-9e17-7fc108177d04",
   "metadata": {},
   "outputs": [
    {
     "name": "stdout",
     "output_type": "stream",
     "text": [
      "✅ İşlenmiş veri '../data/processed_imdb_dataset.csv' dosyasına kaydedildi.\n"
     ]
    }
   ],
   "source": [
    "# ## 6. İşlenmiş Veriyi Kaydet\n",
    "# İşlenmiş veriyi bir CSV dosyasına kaydediyoruz.\n",
    "\n",
    "# %% [code]\n",
    "df_clean.to_csv('../data/processed_imdb_dataset.csv', index=False)\n",
    "print(\"✅ İşlenmiş veri '../data/processed_imdb_dataset.csv' dosyasına kaydedildi.\")"
   ]
  }
 ],
 "metadata": {
  "kernelspec": {
   "display_name": "Python (tts_env)",
   "language": "python",
   "name": "tts_env"
  },
  "language_info": {
   "codemirror_mode": {
    "name": "ipython",
    "version": 3
   },
   "file_extension": ".py",
   "mimetype": "text/x-python",
   "name": "python",
   "nbconvert_exporter": "python",
   "pygments_lexer": "ipython3",
   "version": "3.9.7"
  }
 },
 "nbformat": 4,
 "nbformat_minor": 5
}
